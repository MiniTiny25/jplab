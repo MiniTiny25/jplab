{
 "cells": [
  {
   "cell_type": "code",
   "execution_count": 2,
   "id": "867bc7a4-d2b6-4e00-8222-a63e99e515d5",
   "metadata": {},
   "outputs": [
    {
     "name": "stdout",
     "output_type": "stream",
     "text": [
      "Hiii\n"
     ]
    }
   ],
   "source": [
    "print('Hiii')"
   ]
  },
  {
   "cell_type": "code",
   "execution_count": null,
   "id": "0206345e-3535-4315-aed1-c868ad6f0650",
   "metadata": {},
   "outputs": [],
   "source": []
  }
 ],
 "metadata": {
  "kernelspec": {
   "display_name": "Python 3 (ipykernel)",
   "language": "python",
   "name": "python3"
  },
  "language_info": {
   "codemirror_mode": {
    "name": "ipython",
    "version": 3
   },
   "file_extension": ".py",
   "mimetype": "text/x-python",
   "name": "python",
   "nbconvert_exporter": "python",
   "pygments_lexer": "ipython3",
   "version": "3.12.4"
  }
 },
 "nbformat": 4,
 "nbformat_minor": 5
}
